{
 "cells": [
  {
   "attachments": {},
   "cell_type": "markdown",
   "metadata": {},
   "source": [
    "# Worksheet 02\n",
    "\n",
    "Name:  David White\n",
    "UID: U47531460\n",
    "\n",
    "### Topics\n",
    "\n",
    "- Effective Programming\n",
    "\n",
    "### Effective Programming\n",
    "\n",
    "a) What is a drawback of the top down approach?"
   ]
  },
  {
   "cell_type": "markdown",
   "metadata": {},
   "source": [
    "You don't have runable code until the end."
   ]
  },
  {
   "cell_type": "markdown",
   "metadata": {},
   "source": [
    "b) What is a drawback of the bottom up approach?"
   ]
  },
  {
   "cell_type": "markdown",
   "metadata": {},
   "source": [
    "You have to know everything up front, you have to do a lot of overhead. You might end up doing a lot of work."
   ]
  },
  {
   "cell_type": "markdown",
   "metadata": {},
   "source": [
    "c) What are 3 things you can do to have a better debugging experience?"
   ]
  },
  {
   "cell_type": "markdown",
   "metadata": {},
   "source": [
    "Write boring code, easy to understand.\n",
    "Re-read your code.\n",
    "Don't panic."
   ]
  },
  {
   "cell_type": "code",
   "execution_count": null,
   "metadata": {},
   "outputs": [],
   "source": []
  },
  {
   "attachments": {},
   "cell_type": "markdown",
   "metadata": {},
   "source": [
    "d) Follow along with the live coding. You can write your code here:"
   ]
  },
  {
   "cell_type": "code",
   "execution_count": null,
   "metadata": {
    "is_executing": true,
    "ExecuteTime": {
     "start_time": "2023-09-18T21:39:47.015670798Z"
    }
   },
   "outputs": [
    {
     "name": "stdout",
     "output_type": "stream",
     "text": [
      "_ _ _ _ _ _ _ _ \n",
      "_ _ _ _ _ _ _ _ \n",
      "_ _ _ _ _ _ _ _ \n",
      "_ _ _ _ _ _ _ _ \n",
      "_ _ _ _ _ _ _ _ \n",
      "_ _ _ _ _ _ _ _ \n",
      "_ _ _ _ _ _ _ _ \n",
      "_ _ _ _ _ _ _ _ \n"
     ]
    }
   ],
   "source": [
    "class Board:\n",
    "        def __init__(self):\n",
    "            self.board = [[\"_\" for _ in range(8)] for _ in range(8)]\n",
    "            \n",
    "        def __repr__(self):\n",
    "            res = \"\"\n",
    "            for row in self.board:\n",
    "                for col in row:\n",
    "                    res += col\n",
    "                    res += \" \"\n",
    "                res += \"\\n\"\n",
    "            return res\n",
    "        \n",
    "        def\n",
    "        \n",
    "        def is_legal_col(self, row, col):\n",
    "            for j in range(len(self.board)):\n",
    "                if self.board[j][col] == \"Q\":\n",
    "                    return False\n",
    "            return True\n",
    "        \n",
    "        def is_legal_row(self, row, col):\n",
    "            for j in range(len(self.board)):\n",
    "                if self.board[row][j] == \"Q\":\n",
    "                    return False\n",
    "            return True\n",
    "        \n",
    "        def is_on_board(self, row, col):\n",
    "            if 0 <= row < 8 and 0 <= col < 8:\n",
    "                return True\n",
    "            return False\n",
    "        \n",
    "        def is_legal_diag(self, row, col):\n",
    "            for i in range(len(self.board)):\n",
    "                if self.is_on_board(row - i, col - i) and self.board[row-i][col-i] == \"Q\":\n",
    "                    return False\n",
    "                if self.is_on_board(row + i, col - i) and self.board[row+i][col-i] == \"Q\":\n",
    "                    return False\n",
    "                if self.is_on_board(row - i, col + i) and self.board[row-i][col+i] == \"Q\":\n",
    "                    return False\n",
    "                if self.is_on_board(row + i, col + i) and self.board[row+i][col+i] == \"Q\":\n",
    "                    return False\n",
    "            return True\n",
    "                \n",
    "        \n",
    "        def is_legal(self, row, col):\n",
    "            if not self.is_legal_row(row, col) or not self.is_legal_col(row, col                        self.unset_queen_on(row - 1)\n",
    ") or not self.is_legal_diag(row, col):\n",
    "                return False\n",
    "            return True\n",
    "        \n",
    "        def set_queen_on(self, row, col):\n",
    "            self.board[row][col] = \"Q\"\n",
    "        \n",
    "        def unset_queen_on(self, row):\n",
    "            self.board[row] = [\"_\" for _ in range(8)]\n",
    "        \n",
    "        def get_queen_on(self, row):\n",
    "            for col in range(len(self.board)):\n",
    "                if self.board[col] == \"Q\":\n",
    "                    return col\n",
    "            return -1\n",
    "        \n",
    "        def search(self):\n",
    "            row = 0\n",
    "            col = 0\n",
    "            while row < 8:\n",
    "                if self.is_legal(row, col):\n",
    "                    self.set_queen_on(row, col)\n",
    "                    row += 1\n",
    "                    col = 0\n",
    "                else:\n",
    "                    col += 1\n",
    "                    while col >= 8:\n",
    "                        col = self.get_queen_on(row - 1)\n",
    "                        self.unset_queen_on(row - 1)\n",
    "                        col += 1\n",
    "                        row -= 1\n",
    "            print(\"f                        self.unset_queen_on(row - 1)\n",
    "ound a solution\")\n",
    "            print(self)\n",
    "my_board = Board()\n",
    "print(my_board)\n",
    "print(my_board.search())"
   ]
  }
 ],
 "metadata": {
  "kernelspec": {
   "display_name": "Python 3",
   "language": "python",
   "name": "python3"
  },
  "language_info": {
   "name": "python",
   "version": "3.11.1 (main, Dec  7 2022, 00:00:00) [GCC 12.2.1 20221121 (Red Hat 12.2.1-4)]"
  },
  "orig_nbformat": 4,
  "vscode": {
   "interpreter": {
    "hash": "76ca05dc3ea24b2e3b98cdb7774adfbb40773424bf5109b477fd793f623715af"
   }
  }
 },
 "nbformat": 4,
 "nbformat_minor": 2
}
