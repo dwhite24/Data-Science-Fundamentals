{
 "cells": [
  {
   "cell_type": "markdown",
   "source": [],
   "metadata": {
    "collapsed": false
   }
  },
  {
   "cell_type": "markdown",
   "source": [
    "# Worksheet 04\n",
    "\n",
    "Name: David White \n",
    "UID: U47531460\n",
    "\n",
    "### Topics\n",
    "\n",
    "- Distance & Similarity"
   ],
   "metadata": {
    "collapsed": false
   }
  },
  {
   "cell_type": "markdown",
   "source": [
    "### Distance & Similarity\n",
    "\n",
    "#### Part 1\n",
    "\n",
    "a) In the minkowski distance, describe what the parameters p and d are."
   ],
   "metadata": {
    "collapsed": false
   }
  },
  {
   "cell_type": "markdown",
   "source": [
    "p is the order of the norm\n",
    "d is the number of dimensions"
   ],
   "metadata": {
    "collapsed": false
   }
  },
  {
   "cell_type": "markdown",
   "source": [
    "b) In your own words describe the difference between the Euclidean distance and the Manhattan distance."
   ],
   "metadata": {
    "collapsed": false
   }
  },
  {
   "cell_type": "markdown",
   "source": [
    "Euclidean distance the is the distance between the 2 points, Manhattan distance is the sum of the distances all starts and ends."
   ],
   "metadata": {
    "collapsed": false
   }
  },
  {
   "cell_type": "markdown",
   "source": [
    "Consider A = (0, 0) and B = (1, 1). When:\n",
    "\n",
    "- p = 1, d(A, B) = 2\n",
    "- p = 2, d(A, B) = $\\sqrt{2} = 1.41$\n",
    "- p = 3, d(A, B) = $2^{1/3} = 1.26$\n",
    "- p = 4, d(A, B) = $2^{1/4} = 1.19$\n",
    "\n",
    "c) Describe what you think distance would look like when p is very large."
   ],
   "metadata": {
    "collapsed": false
   }
  },
  {
   "cell_type": "markdown",
   "source": [
    "it should be the limit of 1."
   ],
   "metadata": {
    "collapsed": false
   }
  },
  {
   "cell_type": "markdown",
   "source": [
    "d) Is the minkowski distance still a distance function when p < 1? Expain why / why not."
   ],
   "metadata": {
    "collapsed": false
   }
  },
  {
   "cell_type": "markdown",
   "source": [
    "I don't think it is a distance function when p < 1 as a part becomes greater than the whole."
   ],
   "metadata": {
    "collapsed": false
   }
  },
  {
   "cell_type": "markdown",
   "source": [
    "e) when would you use cosine similarity over the euclidan distance?"
   ],
   "metadata": {
    "collapsed": false
   }
  },
  {
   "cell_type": "markdown",
   "source": [
    "When direction matters more than magnitude."
   ],
   "metadata": {
    "collapsed": false
   }
  },
  {
   "cell_type": "markdown",
   "source": [
    "f) what does the jaccard distance account for that the manhattan distance doesn't?"
   ],
   "metadata": {
    "collapsed": false
   }
  },
  {
   "cell_type": "markdown",
   "source": [
    "The size of the intersection."
   ],
   "metadata": {
    "collapsed": false
   }
  },
  {
   "cell_type": "markdown",
   "source": [
    "#### Part 2\n",
    "\n",
    "Consider the following two sentences:"
   ],
   "metadata": {
    "collapsed": false
   }
  },
  {
   "cell_type": "code",
   "execution_count": 1,
   "outputs": [],
   "source": [
    "s1 = \"hello my name is Alice\"  \n",
    "s2 = \"hello my name is Bob\""
   ],
   "metadata": {
    "collapsed": false,
    "ExecuteTime": {
     "end_time": "2023-09-27T01:28:07.971617181Z",
     "start_time": "2023-09-27T01:28:07.896916831Z"
    }
   }
  },
  {
   "cell_type": "markdown",
   "source": [
    "using the union of words from both sentences, we can represent each sentence as a vector. Each element of the vector represents the presence or absence of the word at that index.\n",
    "\n",
    "In this example, the union of words is (\"hello\", \"my\", \"name\", \"is\", \"Alice\", \"Bob\") so we can represent the above sentences as such:"
   ],
   "metadata": {
    "collapsed": false
   }
  },
  {
   "cell_type": "code",
   "execution_count": 2,
   "outputs": [],
   "source": [
    "v1 = [1,    1, 1,   1, 1,    0]\n",
    "#     hello my name is Alice\n",
    "v2 = [1,    1, 1,   1, 0, 1]\n",
    "#     hello my name is    Bob"
   ],
   "metadata": {
    "collapsed": false,
    "ExecuteTime": {
     "end_time": "2023-09-27T01:28:08.031954118Z",
     "start_time": "2023-09-27T01:28:07.944292983Z"
    }
   }
  },
  {
   "cell_type": "markdown",
   "source": [
    "Programmatically, we can do the following:"
   ],
   "metadata": {
    "collapsed": false
   }
  },
  {
   "cell_type": "code",
   "execution_count": 3,
   "outputs": [
    {
     "name": "stdout",
     "output_type": "stream",
     "text": [
      "['Alice', 'is', 'Bob', 'my', 'name', 'hello']\n",
      "[1, 1, 0, 1, 1, 1]\n"
     ]
    }
   ],
   "source": [
    "corpus = [s1, s2]\n",
    "all_words = list(set([item for x in corpus for item in x.split()]))\n",
    "print(all_words)\n",
    "v1 = [1 if x in s1 else 0 for x in all_words]\n",
    "print(v1)"
   ],
   "metadata": {
    "collapsed": false,
    "ExecuteTime": {
     "end_time": "2023-09-27T01:28:08.035222879Z",
     "start_time": "2023-09-27T01:28:07.944695058Z"
    }
   }
  },
  {
   "cell_type": "markdown",
   "source": [
    "Let's add a new sentence to our corpus:"
   ],
   "metadata": {
    "collapsed": false
   }
  },
  {
   "cell_type": "code",
   "execution_count": 4,
   "outputs": [],
   "source": [
    "s3 = \"hi my name is Claude\"\n",
    "corpus.append(s3)"
   ],
   "metadata": {
    "collapsed": false,
    "ExecuteTime": {
     "end_time": "2023-09-27T01:28:08.035534891Z",
     "start_time": "2023-09-27T01:28:07.945292427Z"
    }
   }
  },
  {
   "cell_type": "markdown",
   "source": [
    "a) What is the new union of words used to represent s1, s2, and s3?"
   ],
   "metadata": {
    "collapsed": false
   }
  },
  {
   "cell_type": "code",
   "execution_count": 5,
   "outputs": [
    {
     "data": {
      "text/plain": "('hello', 'my', 'name', 'is', 'Alice', 'Bob', 'hi', 'Claude')"
     },
     "execution_count": 5,
     "metadata": {},
     "output_type": "execute_result"
    }
   ],
   "source": [
    "(\"hello\", \"my\", \"name\", \"is\", \"Alice\", \"Bob\", \"hi\", \"Claude\")"
   ],
   "metadata": {
    "collapsed": false,
    "ExecuteTime": {
     "end_time": "2023-09-27T01:28:08.051511461Z",
     "start_time": "2023-09-27T01:28:07.945577930Z"
    }
   }
  },
  {
   "cell_type": "markdown",
   "source": [
    "b) Represent s1, s2, and s3 as vectors as above, using this new set of words."
   ],
   "metadata": {
    "collapsed": false
   }
  },
  {
   "cell_type": "code",
   "execution_count": 6,
   "outputs": [],
   "source": [
    "v1 = [1, 1, 1, 1, 1, 0, 0, 0]\n",
    "v2 = [1,1, 1, 1, 0, 1, 0, 0]\n",
    "v3 = [0, 1, 1, 1, 0, 0, 1, 1]"
   ],
   "metadata": {
    "collapsed": false,
    "ExecuteTime": {
     "end_time": "2023-09-27T01:28:08.051910314Z",
     "start_time": "2023-09-27T01:28:07.945834858Z"
    }
   }
  },
  {
   "cell_type": "markdown",
   "source": [
    "c) Write a function that computes the manhattan distance between two vectors. Which pair of vectors are the most similar under that distance function?"
   ],
   "metadata": {
    "collapsed": false
   }
  },
  {
   "cell_type": "code",
   "execution_count": 7,
   "outputs": [],
   "source": [
    "def manhat(v1, v2):\n",
    "    if len(v1) != len(v2):\n",
    "        return 0\n",
    "    else:\n",
    "        total = 0\n",
    "        for x in range(len(v1)):\n",
    "            total += abs(v1[x] - v2[x])\n",
    "        return total"
   ],
   "metadata": {
    "collapsed": false,
    "ExecuteTime": {
     "end_time": "2023-09-27T01:28:08.052107158Z",
     "start_time": "2023-09-27T01:28:07.946062413Z"
    }
   }
  },
  {
   "cell_type": "markdown",
   "source": [],
   "metadata": {
    "collapsed": false
   }
  },
  {
   "cell_type": "markdown",
   "source": [
    "d) Create a matrix of all these vectors (row major) and add the following sentences in vector form:\n",
    "\n",
    "- \"hi Alice\"\n",
    "- \"hello Claude\"\n",
    "- \"Bob my name is Claude\"\n",
    "- \"hi Claude my name is Alice\"\n",
    "- \"hello Bob\""
   ],
   "metadata": {
    "collapsed": false
   }
  },
  {
   "cell_type": "code",
   "execution_count": 8,
   "outputs": [
    {
     "data": {
      "text/plain": "[0, 0, 1, 0, 1, 0, 0, 0]"
     },
     "execution_count": 8,
     "metadata": {},
     "output_type": "execute_result"
    }
   ],
   "source": [
    "(\"hi\", \"Alice\", \"hello\", \"Claude\", \"Bob\", \"my\", \"name\", \"is\")\n",
    "[1, 1, 0, 0, 0, 0, 0, 0]\n",
    "[0, 0, 1, 1, 0, 0, 0, 0]\n",
    "[0, 0, 0, 1, 1, 1, 1, 1]\n",
    "[1, 1, 0, 1, 0, 1, 1, 1]\n",
    "[0, 0, 1, 0, 1, 0, 0, 0]"
   ],
   "metadata": {
    "collapsed": false,
    "ExecuteTime": {
     "end_time": "2023-09-27T01:28:08.052513828Z",
     "start_time": "2023-09-27T01:28:07.946757341Z"
    }
   }
  },
  {
   "cell_type": "markdown",
   "source": [
    "e) How many rows and columns does this matrix have?"
   ],
   "metadata": {
    "collapsed": false
   }
  },
  {
   "cell_type": "code",
   "execution_count": 9,
   "outputs": [
    {
     "ename": "SyntaxError",
     "evalue": "invalid syntax (633927786.py, line 1)",
     "output_type": "error",
     "traceback": [
      "\u001B[0;36m  Cell \u001B[0;32mIn[9], line 1\u001B[0;36m\u001B[0m\n\u001B[0;31m    5 rows 8 columns\u001B[0m\n\u001B[0m      ^\u001B[0m\n\u001B[0;31mSyntaxError\u001B[0m\u001B[0;31m:\u001B[0m invalid syntax\n"
     ]
    }
   ],
   "source": [
    "5 rows 8 columns "
   ],
   "metadata": {
    "collapsed": false,
    "ExecuteTime": {
     "end_time": "2023-09-27T01:28:08.055986755Z",
     "start_time": "2023-09-27T01:28:07.946985080Z"
    }
   }
  },
  {
   "cell_type": "markdown",
   "source": [
    "f) When using the Manhattan distance, which two sentences are the most similar?"
   ],
   "metadata": {
    "collapsed": false
   }
  },
  {
   "cell_type": "code",
   "execution_count": null,
   "outputs": [],
   "source": [
    "def manhat(v1, v2):\n",
    "    if len(v1) != len(v2):\n",
    "        return 0\n",
    "    else:\n",
    "        total = 0\n",
    "        for x in range(len(v1)):\n",
    "            total += abs(v1[x] - v2[x])\n",
    "        return total\n",
    "v3 = [1, 1, 0, 0, 0, 0, 0, 0]\n",
    "v4 = [0, 0, 1, 1, 0, 0, 0, 0]\n",
    "v5 = [0, 0, 0, 1, 1, 1, 1, 1]\n",
    "v6 = [1, 1, 0, 1, 0, 1, 1, 1]\n",
    "v7 = [0, 0, 1, 0, 1, 0, 0, 0]\n",
    "\n",
    "print(manhat(v3, v4))\n",
    "print(manhat(v3, v5))\n",
    "print(manhat(v3, v6))\n",
    "print(manhat(v3, v7))\n",
    "print(manhat(v4, v5))\n",
    "print(manhat(v4, v6))\n",
    "print(manhat(v4, v7))\n",
    "print(manhat(v5, v6))\n",
    "print(manhat(v5, v7))\n",
    "print(manhat(v6, v7))\n",
    "\n"
   ],
   "metadata": {
    "collapsed": false,
    "ExecuteTime": {
     "start_time": "2023-09-27T01:28:07.987899129Z"
    }
   }
  },
  {
   "cell_type": "markdown",
   "source": [
    "\"hello Claude\" and \"hello Bob\""
   ],
   "metadata": {
    "collapsed": false
   }
  }
 ],
 "metadata": {
  "kernelspec": {
   "display_name": "Python 3",
   "language": "python",
   "name": "python3"
  },
  "language_info": {
   "codemirror_mode": {
    "name": "ipython",
    "version": 3
   },
   "file_extension": ".py",
   "mimetype": "text/x-python",
   "name": "python",
   "nbconvert_exporter": "python",
   "pygments_lexer": "ipython3",
   "version": "3.11.1"
  },
  "orig_nbformat": 4,
  "vscode": {
   "interpreter": {
    "hash": "76ca05dc3ea24b2e3b98cdb7774adfbb40773424bf5109b477fd793f623715af"
   }
  }
 },
 "nbformat": 4,
 "nbformat_minor": 2
}
