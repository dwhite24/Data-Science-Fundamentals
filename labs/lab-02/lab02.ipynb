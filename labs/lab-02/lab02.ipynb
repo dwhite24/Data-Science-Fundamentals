{
 "cells": [
  {
   "attachments": {},
   "cell_type": "markdown",
   "metadata": {},
   "source": [
    "## Lab 02 - Pandas and Data Visualization\n",
    "This notebook will introduce you to the basics of Pandas and Data Visualization. You will learn how to load data into a Pandas DataFrame, how to perform basic data analysis, and how to visualize data. The first part of this notebook will be an interactive tutorial, and the second part will be practice exercises for you to do! **Note that the practice problems will be checked when submitted!**"
   ]
  },
  {
   "cell_type": "markdown",
   "metadata": {},
   "source": [
    "#### Pandas\n",
    "Pandas is a popular open-source Python library that provides data structures and data analysis tools for working with structured data. Pandas is a versatile library that simplifies data manipulation, analysis, and exploration in Python. Some of its uses:\n",
    "* Tabular Data Handling\n",
    "* Data Cleaning and Transformation\n",
    "* Data Exploration\n",
    "* Data Import/Export\n",
    "* Data Visualization\n",
    "\n",
    "#### Matplotlib\n",
    "Matplotlib is a widely used for creating static, animated, and interactive visualizations. Whether you are conducting data analysis, scientific research, or data communication, Matplotlib helps you present your findings effectively and intuitively."
   ]
  },
  {
   "attachments": {},
   "cell_type": "markdown",
   "metadata": {},
   "source": [
    "### Pre-requisites"
   ]
  },
  {
   "cell_type": "code",
   "execution_count": 1,
   "metadata": {
    "ExecuteTime": {
     "end_time": "2023-09-23T23:43:41.533337435Z",
     "start_time": "2023-09-23T23:43:41.434623014Z"
    }
   },
   "outputs": [],
   "source": [
    "# In case you don't have pandas, uncomment\n",
    "# the following lines and run the cell\n",
    "\n",
    "# %pip install pandas"
   ]
  },
  {
   "attachments": {},
   "cell_type": "markdown",
   "metadata": {},
   "source": [
    "### Overview\n",
    "In this notebook, you will be learning how to use the Pandas library by working with the `cookies.csv` file. \n",
    "\n",
    "#### `cookies.csv` file :\n",
    "\n",
    "The `cookies.csv` file contains information about cookies that were made in Rico's Bisquito's factory. \n",
    "\n",
    "The columns are the following:\n",
    "\n",
    "`cookie`: the name of a cookie\n",
    "`ingredients`: a list of the cookie's ingredients\n",
    "`calories`: the number of calories the created cookie has\n",
    "`radius`: the radius of the created cookie, in cm\n",
    "`cost_to_make`: the cost it took to make the created cookie, in dollars"
   ]
  },
  {
   "attachments": {},
   "cell_type": "markdown",
   "metadata": {},
   "source": [
    "### Reading the CSV file\n",
    "\n",
    "First, we need to import the Pandas library. We will be using the `pd` alias for the Pandas library."
   ]
  },
  {
   "cell_type": "code",
   "execution_count": 35,
   "metadata": {
    "ExecuteTime": {
     "end_time": "2023-09-23T23:44:40.294687978Z",
     "start_time": "2023-09-23T23:44:40.042702781Z"
    }
   },
   "outputs": [],
   "source": [
    "#TODO: import pandas and matplotlib in this cell\n",
    "import pandas as pd\n",
    "import matplotlib"
   ]
  },
  {
   "attachments": {},
   "cell_type": "markdown",
   "metadata": {},
   "source": [
    "We will now look at the `cookies.csv` file. We will use the `pd.read_csv()` function to read in the CSV file. We will store the data in a variable called `cookies`."
   ]
  },
  {
   "cell_type": "code",
   "execution_count": 37,
   "metadata": {
    "ExecuteTime": {
     "end_time": "2023-09-23T23:45:35.098194581Z",
     "start_time": "2023-09-23T23:45:35.051027824Z"
    }
   },
   "outputs": [],
   "source": [
    "#TODO: read the cookies.csv file into a pandas dataframe\n",
    "cookie = pd.read_csv('cookies.csv')"
   ]
  },
  {
   "attachments": {},
   "cell_type": "markdown",
   "metadata": {},
   "source": [
    "#### Dataframe\n",
    "Dataframes are a data structure that Pandas uses to store data. Dataframes are similar to tables in a database. Dataframes have rows and columns. Each row represents a single data point, and each column represents a feature of the data point."
   ]
  },
  {
   "attachments": {},
   "cell_type": "markdown",
   "metadata": {},
   "source": [
    "We will then make sure we imported the data correctly by printing out the first 10 rows of the data, using the `head()` function."
   ]
  },
  {
   "cell_type": "code",
   "execution_count": 4,
   "metadata": {
    "ExecuteTime": {
     "end_time": "2023-09-23T23:43:41.534479513Z",
     "start_time": "2023-09-23T23:43:41.443722198Z"
    }
   },
   "outputs": [],
   "source": [
    "#TODO: print the head of the dataframe"
   ]
  },
  {
   "attachments": {},
   "cell_type": "markdown",
   "metadata": {},
   "source": [
    "### Checking data types\n",
    "You can check the data types of each column using the `dtypes` attribute of the DataFrame."
   ]
  },
  {
   "cell_type": "code",
   "execution_count": 5,
   "metadata": {
    "ExecuteTime": {
     "end_time": "2023-09-23T23:43:41.534930289Z",
     "start_time": "2023-09-23T23:43:41.443848355Z"
    }
   },
   "outputs": [],
   "source": [
    "#TODO: check the data types of the columns"
   ]
  },
  {
   "cell_type": "markdown",
   "metadata": {},
   "source": [
    "Now, lets use use `info()` function to get more information about the Dataframe"
   ]
  },
  {
   "cell_type": "code",
   "execution_count": 6,
   "metadata": {
    "ExecuteTime": {
     "end_time": "2023-09-23T23:43:41.535928482Z",
     "start_time": "2023-09-23T23:43:41.451138491Z"
    }
   },
   "outputs": [],
   "source": [
    "# TODO: use info() to get information about datatypes and null values"
   ]
  },
  {
   "attachments": {},
   "cell_type": "markdown",
   "metadata": {},
   "source": [
    "### Cleaning the data\n",
    "Now that we have the data, we need to clean it. For example, some `cost_to_make` fields of some created cookies are missing. To resolve this, we can do many things: we can replace the missing data with the mean of the column, or we can get rid of the row entirely if the `cost_to_make` field is not set. "
   ]
  },
  {
   "cell_type": "code",
   "execution_count": 7,
   "metadata": {
    "ExecuteTime": {
     "end_time": "2023-09-23T23:43:41.536146342Z",
     "start_time": "2023-09-23T23:43:41.451344241Z"
    }
   },
   "outputs": [],
   "source": [
    "#TODO: clean the dataframe and \n",
    "# print the head again to make sure \n",
    "# the changes took effect"
   ]
  },
  {
   "attachments": {},
   "cell_type": "markdown",
   "metadata": {},
   "source": [
    "To also make sure we removed null values, we can check the number of null values in each column using the `isnull()` function."
   ]
  },
  {
   "cell_type": "code",
   "execution_count": 8,
   "metadata": {
    "ExecuteTime": {
     "end_time": "2023-09-23T23:43:41.536316133Z",
     "start_time": "2023-09-23T23:43:41.451454053Z"
    }
   },
   "outputs": [],
   "source": [
    "#TODO: use the isnull method to make sure your data is clean"
   ]
  },
  {
   "cell_type": "markdown",
   "metadata": {},
   "source": [
    "Next, lets check for duplicate rows using the `duplicated()` function. Then, remove those rows using `drop_duplicates()` function."
   ]
  },
  {
   "cell_type": "code",
   "execution_count": 9,
   "metadata": {
    "ExecuteTime": {
     "end_time": "2023-09-23T23:43:41.536468778Z",
     "start_time": "2023-09-23T23:43:41.451556110Z"
    }
   },
   "outputs": [],
   "source": [
    "# TODO: check for duplicate rows\n",
    "# then delete those rows form df"
   ]
  },
  {
   "attachments": {},
   "cell_type": "markdown",
   "metadata": {},
   "source": [
    "### Parsing the data\n",
    "Now that we have the data, we could parse it to get the information we want. For example, we can check what types of cookies were made by using the `unique()` function on the `cookie` column."
   ]
  },
  {
   "cell_type": "code",
   "execution_count": 10,
   "metadata": {
    "ExecuteTime": {
     "end_time": "2023-09-23T23:43:41.752120450Z",
     "start_time": "2023-09-23T23:43:41.459360782Z"
    }
   },
   "outputs": [],
   "source": [
    "#TODO: see what cookies are in the dataset"
   ]
  },
  {
   "attachments": {},
   "cell_type": "markdown",
   "metadata": {},
   "source": [
    "We can also check the number of cookies made by using the `value_counts()` function on the `cookie` column."
   ]
  },
  {
   "cell_type": "code",
   "execution_count": 11,
   "metadata": {
    "ExecuteTime": {
     "end_time": "2023-09-23T23:43:41.752736312Z",
     "start_time": "2023-09-23T23:43:41.459618289Z"
    }
   },
   "outputs": [],
   "source": [
    "#TODO: use value_counts() to see how many \n",
    "# cookies of each type there are"
   ]
  },
  {
   "attachments": {},
   "cell_type": "markdown",
   "metadata": {},
   "source": [
    "Or maybe we don't like how long the names of the cookies are, so we can shorten them by using the `replace()` function on the `cookie` column.\n",
    "\n",
    "For example, let's try changing `\"bad berry bunny\"` to `\"bbb\"`."
   ]
  },
  {
   "cell_type": "code",
   "execution_count": 12,
   "metadata": {
    "ExecuteTime": {
     "end_time": "2023-09-23T23:43:41.752920770Z",
     "start_time": "2023-09-23T23:43:41.459741104Z"
    }
   },
   "outputs": [],
   "source": [
    "#TODO: change bad berry bunny data elements to \"bbb\""
   ]
  },
  {
   "attachments": {},
   "cell_type": "markdown",
   "metadata": {},
   "source": [
    "We may even like the original names better, but we may want to get rid of the spaces. For example, we can change `\"orange ozuna\"` to `\"orange_ozuna\"`. Here, we will use the `str.replace()` function."
   ]
  },
  {
   "cell_type": "code",
   "execution_count": 13,
   "metadata": {
    "ExecuteTime": {
     "end_time": "2023-09-23T23:43:41.753070999Z",
     "start_time": "2023-09-23T23:43:41.459850406Z"
    }
   },
   "outputs": [],
   "source": [
    "#TODO: adjust orange ozuna as described"
   ]
  },
  {
   "attachments": {},
   "cell_type": "markdown",
   "metadata": {},
   "source": [
    "We may even just want to keep the first word of the cookie name. For example, we can change `\"orange_ozuna\"` to `\"orange\"`."
   ]
  },
  {
   "cell_type": "code",
   "execution_count": 14,
   "metadata": {
    "ExecuteTime": {
     "end_time": "2023-09-23T23:43:41.753203738Z",
     "start_time": "2023-09-23T23:43:41.459966774Z"
    }
   },
   "outputs": [],
   "source": [
    "#TODO: adjust all cookies so only the first word\n",
    "# is used as the cookie name"
   ]
  },
  {
   "attachments": {},
   "cell_type": "markdown",
   "metadata": {},
   "source": [
    "Another thing that may come to mind is that maybe getting flour could cost more money due to inflation, so we have to adjust our `cost_to_make` values. We can do this by using the `apply()` function on the `cost_to_make` column."
   ]
  },
  {
   "cell_type": "code",
   "execution_count": 15,
   "metadata": {
    "ExecuteTime": {
     "end_time": "2023-09-23T23:43:41.753326812Z",
     "start_time": "2023-09-23T23:43:41.470801866Z"
    }
   },
   "outputs": [],
   "source": [
    "#Don't edit this method\n",
    "def adjust_cost(cost):\n",
    "    return cost + 0.5\n",
    "\n",
    "#TODO: use apply() to adjust the cost_to_make column."
   ]
  },
  {
   "attachments": {},
   "cell_type": "markdown",
   "metadata": {},
   "source": [
    "And we can do a lot more things! We will see these concepts be used in the next homework assignment, along with a couple new ones to show you how powerful Pandas is."
   ]
  },
  {
   "attachments": {},
   "cell_type": "markdown",
   "metadata": {},
   "source": [
    "### More complicated operations: Grouping, Filtering, Aggregating"
   ]
  },
  {
   "cell_type": "markdown",
   "metadata": {},
   "source": [
    "Before trying out these complicated operations, lets first sort the sort the df by the radius of the cookies using the `sort_values()` function."
   ]
  },
  {
   "cell_type": "code",
   "execution_count": 16,
   "metadata": {
    "ExecuteTime": {
     "end_time": "2023-09-23T23:43:41.753481229Z",
     "start_time": "2023-09-23T23:43:41.471142491Z"
    }
   },
   "outputs": [],
   "source": [
    "# TODO: sort the df using sort_values(by='Column', ascending=False)"
   ]
  },
  {
   "attachments": {},
   "cell_type": "markdown",
   "metadata": {},
   "source": [
    "We may also want to group data by certain attributes. This can be done by using `groupby()`. This method takes in a column name, and groups the data by the values in that column. For example, we can group the data by the `cookie` column."
   ]
  },
  {
   "cell_type": "code",
   "execution_count": 17,
   "metadata": {
    "ExecuteTime": {
     "end_time": "2023-09-23T23:43:41.753658647Z",
     "start_time": "2023-09-23T23:43:41.471369374Z"
    }
   },
   "outputs": [],
   "source": [
    "#TODO: group by cookie type"
   ]
  },
  {
   "attachments": {},
   "cell_type": "markdown",
   "metadata": {},
   "source": [
    "We can also group by multiple columns. For example, we can group the data by the `cookie` and `ingredients` columns."
   ]
  },
  {
   "cell_type": "code",
   "execution_count": 18,
   "metadata": {
    "ExecuteTime": {
     "end_time": "2023-09-23T23:43:41.753811008Z",
     "start_time": "2023-09-23T23:43:41.471573149Z"
    }
   },
   "outputs": [],
   "source": [
    "#TODO: group by cookie type and ingredients"
   ]
  },
  {
   "attachments": {},
   "cell_type": "markdown",
   "metadata": {},
   "source": [
    "We may also want to filter the data. For example, we can filter the data to only show the cookies that have a radius greater than 4.3 cm. We can do this by indexing the DataFrame with a boolean expression."
   ]
  },
  {
   "cell_type": "code",
   "execution_count": 19,
   "metadata": {
    "ExecuteTime": {
     "end_time": "2023-09-23T23:43:41.755321776Z",
     "start_time": "2023-09-23T23:43:41.480926726Z"
    }
   },
   "outputs": [],
   "source": [
    "#TODO: filter using the boolean expression"
   ]
  },
  {
   "attachments": {},
   "cell_type": "markdown",
   "metadata": {},
   "source": [
    "We may even want to use `groupby()` and filter idea together! For example, we can filter the data to only show the cookies that have a radius greater than 4.3 cm, and group the data by the `cookie` column."
   ]
  },
  {
   "cell_type": "code",
   "execution_count": 20,
   "metadata": {
    "ExecuteTime": {
     "end_time": "2023-09-23T23:43:41.755512008Z",
     "start_time": "2023-09-23T23:43:41.481338428Z"
    }
   },
   "outputs": [],
   "source": [
    "#TODO: filter the data using the boolean expression\n",
    "# then group by cookie column"
   ]
  },
  {
   "attachments": {},
   "cell_type": "markdown",
   "metadata": {},
   "source": [
    "We may also want to aggregate the data. For example, we can aggregate the data by looking at the ratio of calories to radius. We can do this by using indexing and the `apply()` function."
   ]
  },
  {
   "cell_type": "code",
   "execution_count": 21,
   "metadata": {
    "ExecuteTime": {
     "end_time": "2023-09-23T23:43:41.755641959Z",
     "start_time": "2023-09-23T23:43:41.481577278Z"
    }
   },
   "outputs": [],
   "source": [
    "#TODO: add a column to the dataframe that is the\n",
    "# calories per radius"
   ]
  },
  {
   "attachments": {},
   "cell_type": "markdown",
   "metadata": {},
   "source": [
    "Or we can just get rid of this column if we find it useless. We can do this by using the `drop()` function or indexing."
   ]
  },
  {
   "cell_type": "code",
   "execution_count": 22,
   "metadata": {
    "ExecuteTime": {
     "end_time": "2023-09-23T23:43:41.755765485Z",
     "start_time": "2023-09-23T23:43:41.481795230Z"
    }
   },
   "outputs": [],
   "source": [
    "#TODO: drop the created column"
   ]
  },
  {
   "attachments": {},
   "cell_type": "markdown",
   "metadata": {},
   "source": [
    "### Visualizing the data"
   ]
  },
  {
   "attachments": {},
   "cell_type": "markdown",
   "metadata": {},
   "source": [
    "We can also visualize the data. For example, we can visualize the data by plotting the radius of the cookies against the cost to make the cookies. We can do this by using the `plot()` function."
   ]
  },
  {
   "cell_type": "code",
   "execution_count": 23,
   "metadata": {
    "ExecuteTime": {
     "end_time": "2023-09-23T23:43:41.755916304Z",
     "start_time": "2023-09-23T23:43:41.482007504Z"
    }
   },
   "outputs": [],
   "source": [
    "#TODO: plot the radius (x) versus cost to make (y)"
   ]
  },
  {
   "attachments": {},
   "cell_type": "markdown",
   "metadata": {},
   "source": [
    "We may even want to get more specific and visualize the shape of a distribution of the `laddoo lemon`'s radius by making a boxplot. We can also do this by using the `plot()` function."
   ]
  },
  {
   "cell_type": "code",
   "execution_count": 24,
   "metadata": {
    "ExecuteTime": {
     "end_time": "2023-09-23T23:43:41.756043561Z",
     "start_time": "2023-09-23T23:43:41.490224661Z"
    }
   },
   "outputs": [],
   "source": [
    "#TODO: add the described boxplot\n",
    "# remember that you changed the name from laddoo lemon to laddoo"
   ]
  },
  {
   "attachments": {},
   "cell_type": "markdown",
   "metadata": {},
   "source": [
    "Alternatively, we can create a histogram to visualize the distribution of the `laddoo lemon`'s radius. We can also do this by using the `plot()` function."
   ]
  },
  {
   "cell_type": "code",
   "execution_count": 25,
   "metadata": {
    "ExecuteTime": {
     "end_time": "2023-09-23T23:43:41.756169426Z",
     "start_time": "2023-09-23T23:43:41.490373157Z"
    }
   },
   "outputs": [],
   "source": [
    "#TODO: add the described histogram"
   ]
  },
  {
   "attachments": {},
   "cell_type": "markdown",
   "metadata": {},
   "source": [
    "Things can get more complicated too. Maybe we want to analyze the behaviors of `bad berry bunny` and `laddoo lemon`'s radius using a boxplot. But this time, let's try it using the alternative `boxplot()` function. For practice, try doing it with `plot()` too!"
   ]
  },
  {
   "cell_type": "code",
   "execution_count": 26,
   "metadata": {
    "ExecuteTime": {
     "end_time": "2023-09-23T23:43:41.756410173Z",
     "start_time": "2023-09-23T23:43:41.490476638Z"
    }
   },
   "outputs": [],
   "source": [
    "#TODO: analyze the two cookie's radius in a boxplot"
   ]
  },
  {
   "attachments": {},
   "cell_type": "markdown",
   "metadata": {},
   "source": [
    "### Practice Problems\n",
    "Now that you have learned some of Pandas' capabilities, let's try some practice problems! **This is the part that will be checked when you submit it!**"
   ]
  },
  {
   "attachments": {},
   "cell_type": "markdown",
   "metadata": {},
   "source": [
    "#### Problem 1\n",
    "How many cookies were made? (Hint: use the `shape` attribute)"
   ]
  },
  {
   "cell_type": "code",
   "execution_count": 41,
   "metadata": {
    "ExecuteTime": {
     "end_time": "2023-09-23T23:49:14.822129741Z",
     "start_time": "2023-09-23T23:49:14.772752365Z"
    }
   },
   "outputs": [
    {
     "data": {
      "text/plain": "            cookie                                        ingredients  \\\n0     laddoo lemon             [\"flour\",\"lemon juice\",\"sugar\",\"ghee\"]   \n1  red velvet rauw  [\"flour\",\"cocoa powder\",\"butter\",\"red food col...   \n\n   calories  radius  cost_to_make  \n0       170   3.102          0.67  \n1       198   3.780          1.07  ",
      "text/html": "<div>\n<style scoped>\n    .dataframe tbody tr th:only-of-type {\n        vertical-align: middle;\n    }\n\n    .dataframe tbody tr th {\n        vertical-align: top;\n    }\n\n    .dataframe thead th {\n        text-align: right;\n    }\n</style>\n<table border=\"1\" class=\"dataframe\">\n  <thead>\n    <tr style=\"text-align: right;\">\n      <th></th>\n      <th>cookie</th>\n      <th>ingredients</th>\n      <th>calories</th>\n      <th>radius</th>\n      <th>cost_to_make</th>\n    </tr>\n  </thead>\n  <tbody>\n    <tr>\n      <th>0</th>\n      <td>laddoo lemon</td>\n      <td>[\"flour\",\"lemon juice\",\"sugar\",\"ghee\"]</td>\n      <td>170</td>\n      <td>3.102</td>\n      <td>0.67</td>\n    </tr>\n    <tr>\n      <th>1</th>\n      <td>red velvet rauw</td>\n      <td>[\"flour\",\"cocoa powder\",\"butter\",\"red food col...</td>\n      <td>198</td>\n      <td>3.780</td>\n      <td>1.07</td>\n    </tr>\n  </tbody>\n</table>\n</div>"
     },
     "execution_count": 41,
     "metadata": {},
     "output_type": "execute_result"
    }
   ],
   "source": [
    "#Add your code here\n",
    "cookie.shape[0]"
   ]
  },
  {
   "attachments": {},
   "cell_type": "markdown",
   "metadata": {},
   "source": [
    "#### Problem 2\n",
    "Add a column to the DataFrame that has the value `True` if the cookie has a radius greater than 4 cm, and `False` otherwise. (Hint: use the `apply()` function)"
   ]
  },
  {
   "cell_type": "code",
   "execution_count": 43,
   "metadata": {
    "ExecuteTime": {
     "end_time": "2023-09-23T23:50:30.720467595Z",
     "start_time": "2023-09-23T23:50:30.665823887Z"
    }
   },
   "outputs": [
    {
     "data": {
      "text/plain": "            cookie                                        ingredients  \\\n0     laddoo lemon             [\"flour\",\"lemon juice\",\"sugar\",\"ghee\"]   \n1  red velvet rauw  [\"flour\",\"cocoa powder\",\"butter\",\"red food col...   \n2         nevadito  [\"flour\",\"chocolate chips\",\"milk\",\"vanilla ext...   \n3  red velvet rauw  [\"flour\",\"cocoa powder\",\"butter\",\"red food col...   \n4  bad berry bunny           [\"flour\",\"blueberries\",\"sugar\",\"butter\"]   \n5     orange ozuna   [\"flour\",\"orange juice\",\"sugar\",\"vegetable oil\"]   \n6      minty miami          [\"flour\",\"mint extract\",\"sugar\",\"butter\"]   \n7        chocolate       [\"flour\",\"chocolate chips\",\"sugar\",\"butter\"]   \n8     laddoo lemon             [\"flour\",\"lemon juice\",\"sugar\",\"ghee\"]   \n9      minty miami          [\"flour\",\"mint extract\",\"sugar\",\"butter\"]   \n\n   calories  radius  cost_to_make   size  \n0       170   3.102          0.67  False  \n1       198   3.780          1.07  False  \n2       224   4.069          1.04   True  \n3       198   3.780          1.07  False  \n4       191   4.148          1.39   True  \n5       162   3.241          1.15  False  \n6       204   3.964          0.84  False  \n7       243   3.684          1.17  False  \n8       178   3.989           NaN  False  \n9       184   3.743          0.74  False  ",
      "text/html": "<div>\n<style scoped>\n    .dataframe tbody tr th:only-of-type {\n        vertical-align: middle;\n    }\n\n    .dataframe tbody tr th {\n        vertical-align: top;\n    }\n\n    .dataframe thead th {\n        text-align: right;\n    }\n</style>\n<table border=\"1\" class=\"dataframe\">\n  <thead>\n    <tr style=\"text-align: right;\">\n      <th></th>\n      <th>cookie</th>\n      <th>ingredients</th>\n      <th>calories</th>\n      <th>radius</th>\n      <th>cost_to_make</th>\n      <th>size</th>\n    </tr>\n  </thead>\n  <tbody>\n    <tr>\n      <th>0</th>\n      <td>laddoo lemon</td>\n      <td>[\"flour\",\"lemon juice\",\"sugar\",\"ghee\"]</td>\n      <td>170</td>\n      <td>3.102</td>\n      <td>0.67</td>\n      <td>False</td>\n    </tr>\n    <tr>\n      <th>1</th>\n      <td>red velvet rauw</td>\n      <td>[\"flour\",\"cocoa powder\",\"butter\",\"red food col...</td>\n      <td>198</td>\n      <td>3.780</td>\n      <td>1.07</td>\n      <td>False</td>\n    </tr>\n    <tr>\n      <th>2</th>\n      <td>nevadito</td>\n      <td>[\"flour\",\"chocolate chips\",\"milk\",\"vanilla ext...</td>\n      <td>224</td>\n      <td>4.069</td>\n      <td>1.04</td>\n      <td>True</td>\n    </tr>\n    <tr>\n      <th>3</th>\n      <td>red velvet rauw</td>\n      <td>[\"flour\",\"cocoa powder\",\"butter\",\"red food col...</td>\n      <td>198</td>\n      <td>3.780</td>\n      <td>1.07</td>\n      <td>False</td>\n    </tr>\n    <tr>\n      <th>4</th>\n      <td>bad berry bunny</td>\n      <td>[\"flour\",\"blueberries\",\"sugar\",\"butter\"]</td>\n      <td>191</td>\n      <td>4.148</td>\n      <td>1.39</td>\n      <td>True</td>\n    </tr>\n    <tr>\n      <th>5</th>\n      <td>orange ozuna</td>\n      <td>[\"flour\",\"orange juice\",\"sugar\",\"vegetable oil\"]</td>\n      <td>162</td>\n      <td>3.241</td>\n      <td>1.15</td>\n      <td>False</td>\n    </tr>\n    <tr>\n      <th>6</th>\n      <td>minty miami</td>\n      <td>[\"flour\",\"mint extract\",\"sugar\",\"butter\"]</td>\n      <td>204</td>\n      <td>3.964</td>\n      <td>0.84</td>\n      <td>False</td>\n    </tr>\n    <tr>\n      <th>7</th>\n      <td>chocolate</td>\n      <td>[\"flour\",\"chocolate chips\",\"sugar\",\"butter\"]</td>\n      <td>243</td>\n      <td>3.684</td>\n      <td>1.17</td>\n      <td>False</td>\n    </tr>\n    <tr>\n      <th>8</th>\n      <td>laddoo lemon</td>\n      <td>[\"flour\",\"lemon juice\",\"sugar\",\"ghee\"]</td>\n      <td>178</td>\n      <td>3.989</td>\n      <td>NaN</td>\n      <td>False</td>\n    </tr>\n    <tr>\n      <th>9</th>\n      <td>minty miami</td>\n      <td>[\"flour\",\"mint extract\",\"sugar\",\"butter\"]</td>\n      <td>184</td>\n      <td>3.743</td>\n      <td>0.74</td>\n      <td>False</td>\n    </tr>\n  </tbody>\n</table>\n</div>"
     },
     "execution_count": 43,
     "metadata": {},
     "output_type": "execute_result"
    }
   ],
   "source": [
    "#Add your code here\n",
    "cookie[\"size\"] = cookie.apply(lambda y: y['radius'] > 4.0, axis=1)"
   ]
  },
  {
   "attachments": {},
   "cell_type": "markdown",
   "metadata": {},
   "source": [
    "#### Problem 3\n",
    "\n",
    "Group the data by the `cookie` column, and find the average radius of each cookie. (Hint: use the `groupby()` and `transform()` function). Add this column to the DataFrame."
   ]
  },
  {
   "cell_type": "code",
   "execution_count": 44,
   "metadata": {
    "ExecuteTime": {
     "end_time": "2023-09-23T23:53:10.350278072Z",
     "start_time": "2023-09-23T23:53:10.340113Z"
    }
   },
   "outputs": [
    {
     "data": {
      "text/plain": "                   calories    radius  cost_to_make      size\ncookie                                                       \nbad berry bunny  186.941176  3.911000      1.152667  0.352941\nchocolate        217.625000  3.933562      1.235385  0.500000\nladdoo lemon     175.235294  3.782118      1.303077  0.352941\nminty miami      188.523810  3.762000      0.912105  0.142857\nnevadito         221.352941  4.013588      1.364667  0.529412\norange ozuna     166.650000  3.477600      1.205789  0.150000\nred velvet rauw  199.523810  4.034952      1.156500  0.428571",
      "text/html": "<div>\n<style scoped>\n    .dataframe tbody tr th:only-of-type {\n        vertical-align: middle;\n    }\n\n    .dataframe tbody tr th {\n        vertical-align: top;\n    }\n\n    .dataframe thead th {\n        text-align: right;\n    }\n</style>\n<table border=\"1\" class=\"dataframe\">\n  <thead>\n    <tr style=\"text-align: right;\">\n      <th></th>\n      <th>calories</th>\n      <th>radius</th>\n      <th>cost_to_make</th>\n      <th>size</th>\n    </tr>\n    <tr>\n      <th>cookie</th>\n      <th></th>\n      <th></th>\n      <th></th>\n      <th></th>\n    </tr>\n  </thead>\n  <tbody>\n    <tr>\n      <th>bad berry bunny</th>\n      <td>186.941176</td>\n      <td>3.911000</td>\n      <td>1.152667</td>\n      <td>0.352941</td>\n    </tr>\n    <tr>\n      <th>chocolate</th>\n      <td>217.625000</td>\n      <td>3.933562</td>\n      <td>1.235385</td>\n      <td>0.500000</td>\n    </tr>\n    <tr>\n      <th>laddoo lemon</th>\n      <td>175.235294</td>\n      <td>3.782118</td>\n      <td>1.303077</td>\n      <td>0.352941</td>\n    </tr>\n    <tr>\n      <th>minty miami</th>\n      <td>188.523810</td>\n      <td>3.762000</td>\n      <td>0.912105</td>\n      <td>0.142857</td>\n    </tr>\n    <tr>\n      <th>nevadito</th>\n      <td>221.352941</td>\n      <td>4.013588</td>\n      <td>1.364667</td>\n      <td>0.529412</td>\n    </tr>\n    <tr>\n      <th>orange ozuna</th>\n      <td>166.650000</td>\n      <td>3.477600</td>\n      <td>1.205789</td>\n      <td>0.150000</td>\n    </tr>\n    <tr>\n      <th>red velvet rauw</th>\n      <td>199.523810</td>\n      <td>4.034952</td>\n      <td>1.156500</td>\n      <td>0.428571</td>\n    </tr>\n  </tbody>\n</table>\n</div>"
     },
     "execution_count": 44,
     "metadata": {},
     "output_type": "execute_result"
    }
   ],
   "source": [
    "#Add your code here\n",
    "cookie.groupby('cookie').mean('radius')"
   ]
  },
  {
   "attachments": {},
   "cell_type": "markdown",
   "metadata": {},
   "source": [
    "#### Problem 4\n",
    "Create a new DataFrame that only contains the cookies that have the ingredient `\"chocolate chips\"`. (Hint: use the `str.contains()` function)"
   ]
  },
  {
   "cell_type": "code",
   "execution_count": 47,
   "metadata": {
    "ExecuteTime": {
     "end_time": "2023-09-23T23:58:59.147321004Z",
     "start_time": "2023-09-23T23:58:59.132375159Z"
    }
   },
   "outputs": [
    {
     "data": {
      "text/plain": "       cookie                                        ingredients  calories  \\\n2    nevadito  [\"flour\",\"chocolate chips\",\"milk\",\"vanilla ext...       224   \n7   chocolate       [\"flour\",\"chocolate chips\",\"sugar\",\"butter\"]       243   \n10   nevadito  [\"flour\",\"chocolate chips\",\"milk\",\"vanilla ext...       216   \n17  chocolate       [\"flour\",\"chocolate chips\",\"sugar\",\"butter\"]       209   \n19   nevadito  [\"flour\",\"chocolate chips\",\"milk\",\"vanilla ext...       236   \n25  chocolate       [\"flour\",\"chocolate chips\",\"sugar\",\"butter\"]       205   \n29   nevadito  [\"flour\",\"chocolate chips\",\"milk\",\"vanilla ext...       219   \n34  chocolate       [\"flour\",\"chocolate chips\",\"sugar\",\"butter\"]       205   \n36   nevadito  [\"flour\",\"chocolate chips\",\"milk\",\"vanilla ext...       211   \n41  chocolate       [\"flour\",\"chocolate chips\",\"sugar\",\"butter\"]       206   \n43   nevadito  [\"flour\",\"chocolate chips\",\"milk\",\"vanilla ext...       205   \n48  chocolate       [\"flour\",\"chocolate chips\",\"sugar\",\"butter\"]       240   \n50   nevadito  [\"flour\",\"chocolate chips\",\"milk\",\"vanilla ext...       220   \n55  chocolate       [\"flour\",\"chocolate chips\",\"sugar\",\"butter\"]       229   \n57   nevadito  [\"flour\",\"chocolate chips\",\"milk\",\"vanilla ext...       208   \n62  chocolate       [\"flour\",\"chocolate chips\",\"sugar\",\"butter\"]       206   \n64   nevadito  [\"flour\",\"chocolate chips\",\"milk\",\"vanilla ext...       211   \n69  chocolate       [\"flour\",\"chocolate chips\",\"sugar\",\"butter\"]       216   \n71   nevadito  [\"flour\",\"chocolate chips\",\"milk\",\"vanilla ext...       214   \n80  chocolate       [\"flour\",\"chocolate chips\",\"sugar\",\"butter\"]       197   \n\n    radius  cost_to_make   size  \n2    4.069          1.04   True  \n7    3.684          1.17  False  \n10   3.848          1.28  False  \n17   3.182          1.53  False  \n19   4.043          1.29   True  \n25   3.383           NaN  False  \n29   4.346          1.18   True  \n34   3.937           NaN  False  \n36   4.152          1.72   True  \n41   3.681           NaN  False  \n43   3.776          0.96  False  \n48   4.212          0.97   True  \n50   3.855          2.21  False  \n55   4.217          1.19   True  \n57   3.583          1.42  False  \n62   4.328          1.34   True  \n64   4.205          1.19   True  \n69   3.824          1.15  False  \n71   4.141          1.37   True  \n80   4.461          1.67   True  ",
      "text/html": "<div>\n<style scoped>\n    .dataframe tbody tr th:only-of-type {\n        vertical-align: middle;\n    }\n\n    .dataframe tbody tr th {\n        vertical-align: top;\n    }\n\n    .dataframe thead th {\n        text-align: right;\n    }\n</style>\n<table border=\"1\" class=\"dataframe\">\n  <thead>\n    <tr style=\"text-align: right;\">\n      <th></th>\n      <th>cookie</th>\n      <th>ingredients</th>\n      <th>calories</th>\n      <th>radius</th>\n      <th>cost_to_make</th>\n      <th>size</th>\n    </tr>\n  </thead>\n  <tbody>\n    <tr>\n      <th>2</th>\n      <td>nevadito</td>\n      <td>[\"flour\",\"chocolate chips\",\"milk\",\"vanilla ext...</td>\n      <td>224</td>\n      <td>4.069</td>\n      <td>1.04</td>\n      <td>True</td>\n    </tr>\n    <tr>\n      <th>7</th>\n      <td>chocolate</td>\n      <td>[\"flour\",\"chocolate chips\",\"sugar\",\"butter\"]</td>\n      <td>243</td>\n      <td>3.684</td>\n      <td>1.17</td>\n      <td>False</td>\n    </tr>\n    <tr>\n      <th>10</th>\n      <td>nevadito</td>\n      <td>[\"flour\",\"chocolate chips\",\"milk\",\"vanilla ext...</td>\n      <td>216</td>\n      <td>3.848</td>\n      <td>1.28</td>\n      <td>False</td>\n    </tr>\n    <tr>\n      <th>17</th>\n      <td>chocolate</td>\n      <td>[\"flour\",\"chocolate chips\",\"sugar\",\"butter\"]</td>\n      <td>209</td>\n      <td>3.182</td>\n      <td>1.53</td>\n      <td>False</td>\n    </tr>\n    <tr>\n      <th>19</th>\n      <td>nevadito</td>\n      <td>[\"flour\",\"chocolate chips\",\"milk\",\"vanilla ext...</td>\n      <td>236</td>\n      <td>4.043</td>\n      <td>1.29</td>\n      <td>True</td>\n    </tr>\n    <tr>\n      <th>25</th>\n      <td>chocolate</td>\n      <td>[\"flour\",\"chocolate chips\",\"sugar\",\"butter\"]</td>\n      <td>205</td>\n      <td>3.383</td>\n      <td>NaN</td>\n      <td>False</td>\n    </tr>\n    <tr>\n      <th>29</th>\n      <td>nevadito</td>\n      <td>[\"flour\",\"chocolate chips\",\"milk\",\"vanilla ext...</td>\n      <td>219</td>\n      <td>4.346</td>\n      <td>1.18</td>\n      <td>True</td>\n    </tr>\n    <tr>\n      <th>34</th>\n      <td>chocolate</td>\n      <td>[\"flour\",\"chocolate chips\",\"sugar\",\"butter\"]</td>\n      <td>205</td>\n      <td>3.937</td>\n      <td>NaN</td>\n      <td>False</td>\n    </tr>\n    <tr>\n      <th>36</th>\n      <td>nevadito</td>\n      <td>[\"flour\",\"chocolate chips\",\"milk\",\"vanilla ext...</td>\n      <td>211</td>\n      <td>4.152</td>\n      <td>1.72</td>\n      <td>True</td>\n    </tr>\n    <tr>\n      <th>41</th>\n      <td>chocolate</td>\n      <td>[\"flour\",\"chocolate chips\",\"sugar\",\"butter\"]</td>\n      <td>206</td>\n      <td>3.681</td>\n      <td>NaN</td>\n      <td>False</td>\n    </tr>\n    <tr>\n      <th>43</th>\n      <td>nevadito</td>\n      <td>[\"flour\",\"chocolate chips\",\"milk\",\"vanilla ext...</td>\n      <td>205</td>\n      <td>3.776</td>\n      <td>0.96</td>\n      <td>False</td>\n    </tr>\n    <tr>\n      <th>48</th>\n      <td>chocolate</td>\n      <td>[\"flour\",\"chocolate chips\",\"sugar\",\"butter\"]</td>\n      <td>240</td>\n      <td>4.212</td>\n      <td>0.97</td>\n      <td>True</td>\n    </tr>\n    <tr>\n      <th>50</th>\n      <td>nevadito</td>\n      <td>[\"flour\",\"chocolate chips\",\"milk\",\"vanilla ext...</td>\n      <td>220</td>\n      <td>3.855</td>\n      <td>2.21</td>\n      <td>False</td>\n    </tr>\n    <tr>\n      <th>55</th>\n      <td>chocolate</td>\n      <td>[\"flour\",\"chocolate chips\",\"sugar\",\"butter\"]</td>\n      <td>229</td>\n      <td>4.217</td>\n      <td>1.19</td>\n      <td>True</td>\n    </tr>\n    <tr>\n      <th>57</th>\n      <td>nevadito</td>\n      <td>[\"flour\",\"chocolate chips\",\"milk\",\"vanilla ext...</td>\n      <td>208</td>\n      <td>3.583</td>\n      <td>1.42</td>\n      <td>False</td>\n    </tr>\n    <tr>\n      <th>62</th>\n      <td>chocolate</td>\n      <td>[\"flour\",\"chocolate chips\",\"sugar\",\"butter\"]</td>\n      <td>206</td>\n      <td>4.328</td>\n      <td>1.34</td>\n      <td>True</td>\n    </tr>\n    <tr>\n      <th>64</th>\n      <td>nevadito</td>\n      <td>[\"flour\",\"chocolate chips\",\"milk\",\"vanilla ext...</td>\n      <td>211</td>\n      <td>4.205</td>\n      <td>1.19</td>\n      <td>True</td>\n    </tr>\n    <tr>\n      <th>69</th>\n      <td>chocolate</td>\n      <td>[\"flour\",\"chocolate chips\",\"sugar\",\"butter\"]</td>\n      <td>216</td>\n      <td>3.824</td>\n      <td>1.15</td>\n      <td>False</td>\n    </tr>\n    <tr>\n      <th>71</th>\n      <td>nevadito</td>\n      <td>[\"flour\",\"chocolate chips\",\"milk\",\"vanilla ext...</td>\n      <td>214</td>\n      <td>4.141</td>\n      <td>1.37</td>\n      <td>True</td>\n    </tr>\n    <tr>\n      <th>80</th>\n      <td>chocolate</td>\n      <td>[\"flour\",\"chocolate chips\",\"sugar\",\"butter\"]</td>\n      <td>197</td>\n      <td>4.461</td>\n      <td>1.67</td>\n      <td>True</td>\n    </tr>\n  </tbody>\n</table>\n</div>"
     },
     "execution_count": 47,
     "metadata": {},
     "output_type": "execute_result"
    }
   ],
   "source": [
    "#Add your code here\n",
    "cookie2 = cookie[cookie.ingredients.str.contains(\"chocolate chips\")]"
   ]
  },
  {
   "attachments": {},
   "cell_type": "markdown",
   "metadata": {},
   "source": [
    "#### Problem 5\n",
    "\n",
    "Create a boxplot of `cost_to_make` for all cookies except `chocolate` using the `boxplot()` function."
   ]
  },
  {
   "cell_type": "code",
   "execution_count": 56,
   "metadata": {
    "ExecuteTime": {
     "end_time": "2023-09-24T00:09:12.676865864Z",
     "start_time": "2023-09-24T00:09:12.094664896Z"
    }
   },
   "outputs": [
    {
     "data": {
      "text/plain": "<Axes: >"
     },
     "execution_count": 56,
     "metadata": {},
     "output_type": "execute_result"
    },
    {
     "data": {
      "text/plain": "<Figure size 640x480 with 1 Axes>",
      "image/png": "[encoded data removed]"
     },
     "metadata": {},
     "output_type": "display_data"
    }
   ],
   "source": [
    "#Add your code here\n",
    "chocolateless = pd.read_csv(\"cookies.csv\")\n",
    "chocolate = chocolateless[chocolateless[\"cookie\"]==\"chocolate\"].index\n",
    "chocolateless.drop(chocolate, inplace=True)\n",
    "chocolateless.boxplot(\"cost_to_make\")"
   ]
  },
  {
   "attachments": {},
   "cell_type": "markdown",
   "metadata": {},
   "source": [
    "#### Problem 6\n",
    "\n",
    "Create a histogram of the `bad berry bunny`'s calories using the `plot()` function."
   ]
  },
  {
   "cell_type": "code",
   "execution_count": 72,
   "metadata": {
    "ExecuteTime": {
     "end_time": "2023-09-24T00:17:11.028023643Z",
     "start_time": "2023-09-24T00:17:10.965073210Z"
    }
   },
   "outputs": [
    {
     "data": {
      "text/plain": "<Figure size 640x480 with 1 Axes>",
      "image/png": "[encoded data removed]"
     },
     "metadata": {},
     "output_type": "display_data"
    }
   ],
   "source": [
    "#Add your code here\n",
    "import matplotlib.pyplot as plt\n",
    "bbb = pd.read_csv(\"cookies.csv\")\n",
    "notbbb = bbb[~(bbb[\"cookie\"]==\"bad berry bunny\")].index\n",
    "bbb.drop(notbbb, inplace=True)\n",
    "bbb.head(10)\n",
    "bbb[\"calories\"].plot(kind=\"hist\")\n",
    "plt.show()"
   ]
  },
  {
   "cell_type": "markdown",
   "metadata": {},
   "source": [
    "#### Problem 7\n",
    "\n",
    "Calculate the average calories per cookie type and display the result in a bar chart."
   ]
  },
  {
   "cell_type": "code",
   "execution_count": 74,
   "metadata": {
    "ExecuteTime": {
     "end_time": "2023-09-24T00:19:25.496584968Z",
     "start_time": "2023-09-24T00:19:25.434107043Z"
    }
   },
   "outputs": [
    {
     "data": {
      "text/plain": "<Figure size 640x480 with 1 Axes>",
      "image/png": "[encoded data removed]"
     },
     "metadata": {},
     "output_type": "display_data"
    }
   ],
   "source": [
    "#Add your code here\n",
    "cookie4 = cookie.groupby('cookie').mean('calories')\n",
    "cookie4[\"calories\"].plot.bar(x=\"cookie\", y=\"calories\")\n",
    "plt.show()"
   ]
  },
  {
   "cell_type": "markdown",
   "metadata": {},
   "source": [
    "#### Problem 8\n",
    "\n",
    "Find the top 3 most expensive cookies in terms of cost_to_make"
   ]
  },
  {
   "cell_type": "code",
   "execution_count": 79,
   "metadata": {
    "ExecuteTime": {
     "end_time": "2023-09-24T00:21:31.389889470Z",
     "start_time": "2023-09-24T00:21:31.374481154Z"
    }
   },
   "outputs": [
    {
     "data": {
      "text/plain": "                calories    radius  cost_to_make      size\ncookie                                                    \nnevadito      221.352941  4.013588      1.364667  0.529412\nladdoo lemon  175.235294  3.782118      1.303077  0.352941\nchocolate     217.625000  3.933562      1.235385  0.500000",
      "text/html": "<div>\n<style scoped>\n    .dataframe tbody tr th:only-of-type {\n        vertical-align: middle;\n    }\n\n    .dataframe tbody tr th {\n        vertical-align: top;\n    }\n\n    .dataframe thead th {\n        text-align: right;\n    }\n</style>\n<table border=\"1\" class=\"dataframe\">\n  <thead>\n    <tr style=\"text-align: right;\">\n      <th></th>\n      <th>calories</th>\n      <th>radius</th>\n      <th>cost_to_make</th>\n      <th>size</th>\n    </tr>\n    <tr>\n      <th>cookie</th>\n      <th></th>\n      <th></th>\n      <th></th>\n      <th></th>\n    </tr>\n  </thead>\n  <tbody>\n    <tr>\n      <th>nevadito</th>\n      <td>221.352941</td>\n      <td>4.013588</td>\n      <td>1.364667</td>\n      <td>0.529412</td>\n    </tr>\n    <tr>\n      <th>laddoo lemon</th>\n      <td>175.235294</td>\n      <td>3.782118</td>\n      <td>1.303077</td>\n      <td>0.352941</td>\n    </tr>\n    <tr>\n      <th>chocolate</th>\n      <td>217.625000</td>\n      <td>3.933562</td>\n      <td>1.235385</td>\n      <td>0.500000</td>\n    </tr>\n  </tbody>\n</table>\n</div>"
     },
     "execution_count": 79,
     "metadata": {},
     "output_type": "execute_result"
    }
   ],
   "source": [
    "#Add your code here\n",
    "cookie5 = cookie.groupby('cookie').mean('cost_to_make')\n",
    "cookie5.sort_values(by=['cost_to_make'], ascending=False).head(3)"
   ]
  }
 ],
 "metadata": {
  "kernelspec": {
   "display_name": "Python 3",
   "language": "python",
   "name": "python3"
  },
  "language_info": {
   "codemirror_mode": {
    "name": "ipython",
    "version": 3
   },
   "file_extension": ".py",
   "mimetype": "text/x-python",
   "name": "python",
   "nbconvert_exporter": "python",
   "pygments_lexer": "ipython3",
   "version": "3.9.17"
  },
  "orig_nbformat": 4,
  "vscode": {
   "interpreter": {
    "hash": "63639127d0784e8e4de1a76bcacd89583be09d9f82d600966cd9457d183cbbf7"
   }
  }
 },
 "nbformat": 4,
 "nbformat_minor": 2
}
